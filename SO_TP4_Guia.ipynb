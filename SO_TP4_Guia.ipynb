{
 "cells": [
  {
   "cell_type": "markdown",
   "metadata": {
    "slideshow": {
     "slide_type": "slide"
    }
   },
   "source": [
    "# TP4 - Inter Process Comunication\n",
    "## Sistemas Operativos\n",
    "\n",
    "![Logo](static/unpsjb.png)\n"
   ]
  },
  {
   "cell_type": "markdown",
   "metadata": {
    "slideshow": {
     "slide_type": "slide"
    }
   },
   "source": [
    "# Antes de empezar\n",
    "\n",
    "## Esta guía está versionada con Git\n",
    "\n",
    "Ésta guía se encuentra en un repositorio Git en [Github](https://github.com/UNPSJB/so-tp4-2015) y se puede descargar con el siguiente comando:\n",
    "\n",
    "```bash\n",
    "\n",
    "git clone https://github.com/UNPSJB/so-tp4-2015.git\n",
    "\n",
    "```\n",
    "\n",
    "## Versión online\n",
    "Existe una [versión online](http://nbviewer.ipython.org/format/slides/github/UNPSJB/so-tp4-2015/blob/master/SO_TP4_Guia.ipynb#/), si hubiese cambios, se verían reflejados en ese enlace.\n"
   ]
  },
  {
   "cell_type": "markdown",
   "metadata": {
    "slideshow": {
     "slide_type": "slide"
    }
   },
   "source": [
    "# IPC y visualización con Processing.py\n",
    "\n",
    "## Objetivos\n",
    "\n",
    "En este práctico, cada grupo resolverá un problema clásico de concurrencia (**Filsofos Comensales**, **Barbero Dormilón**, **La panadería**, **Fumadores**, etc), y generará una interfase visual que represente en pantalla lo que está sucediendo a cada momento.\n",
    "\n",
    "\n",
    "### Herramientas\n",
    "\n",
    " - Procssing.py\n",
    "     - Visualización\n",
    " - netcat\n",
    "     - Convertir la salida estandar de un proceso en comunicación con otro proceso mediante TCP\n",
    "     - Utilizando *pipes* podemos hacer que el **stdout** sea enviado mediante un socket.\n",
    " - printf\n",
    "     - Generar JSON *a mano* con la ayuda de %d (enteros), %f (flotantes), %s (cadenas), etc.\n"
   ]
  },
  {
   "cell_type": "code",
   "execution_count": 167,
   "metadata": {
    "collapsed": false,
    "slideshow": {
     "slide_type": "skip"
    }
   },
   "outputs": [
    {
     "name": "stdout",
     "output_type": "stream",
     "text": [
      "Overwriting static/esquema.dot\n"
     ]
    }
   ],
   "source": [
    "%%file static/esquema.dot\n",
    "// Esquema graphviz del ejemplo de más abajo\n",
    "digraph G {\n",
    "    subgraph cluster_0 {\n",
    "        // node[shape=square];\n",
    "        style=filled;\n",
    "\t\tcolor=lightgrey;\n",
    "        prog_a[label=\"prog_a \"];\n",
    "        prog_b[label=\"prog_b \"];\n",
    "        prog_c[label=\"prog_c \"];\n",
    "        prog_d[label=\"prog_d \"];\n",
    "        label = \"procesos de simulacion en C\";\n",
    "     }\n",
    "    subgraph cluster_1 {\n",
    "        label=\"Processing.py\"\n",
    "        th0 [label=\"Hilo espera clientes/accept()\"]\n",
    "        th1 [label=\"Hilo 1\", color=\"red\"];\n",
    "        th2 [label=\"Hilo 2\", color=\"red\"];\n",
    "        th3 [label=\"Hilo 3\", color=\"red\"];\n",
    "        th4 [label=\"Hilo 4\", color=\"red\"];\n",
    "        vis [label=\"Visualización\"];\n",
    "    }\n",
    "    prog_a -> th1 [label=\" netcat\"];\n",
    "    prog_b -> th2 [label=\" netcat\"];\n",
    "    prog_c -> th3 [label=\" netcat\"];\n",
    "    prog_d -> th4 [label=\" netcat\"];\n",
    "    \n",
    "    th1 -> vis;\n",
    "    th2 -> vis;\n",
    "    th3 -> vis;\n",
    "    th4 -> vis;\n",
    "    \n",
    "    th0->th1;\n",
    "    th0->th2;\n",
    "    th0->th3;\n",
    "    th0->th4;    \n",
    "}"
   ]
  },
  {
   "cell_type": "code",
   "execution_count": 168,
   "metadata": {
    "collapsed": false,
    "slideshow": {
     "slide_type": "notes"
    }
   },
   "outputs": [],
   "source": [
    "from IPython.display import *\n",
    "!dot -Tpng static/esquema.dot -o static/esquema.png"
   ]
  },
  {
   "cell_type": "markdown",
   "metadata": {
    "slideshow": {
     "slide_type": "subslide"
    }
   },
   "source": [
    "![esquema](static/esquema.png?fooo)"
   ]
  },
  {
   "cell_type": "markdown",
   "metadata": {
    "slideshow": {
     "slide_type": "slide"
    }
   },
   "source": [
    "# Processing\n",
    "\n",
    "Processing es un entorno de de programación visual.\n",
    "\n",
    "Processing tiene una interfase muy similar a la de Arduino y suele ser utilizado como complemento de visualización para sistemas embebidos libres.\n",
    "\n",
    "![](static/processing_example.png)\n"
   ]
  },
  {
   "cell_type": "markdown",
   "metadata": {
    "slideshow": {
     "slide_type": "slide"
    }
   },
   "source": [
    "## Programación básica en Processing\n",
    "\n",
    "&nbsp;\n",
    "\n",
    "```java\n",
    "\n",
    "void setup() {\n",
    "    // Definir el tamaño de la pantalla\n",
    "    size(500, 500);\n",
    "}\n",
    "\n",
    "void loop() {\n",
    "    // Dibujar un rectángulo de en la posición x=10, y=10 y con 20 píxeles de ancho y alto\n",
    "    rect(10, 10, 20, 20);\n",
    "}\n",
    "```"
   ]
  },
  {
   "cell_type": "markdown",
   "metadata": {
    "slideshow": {
     "slide_type": "fragment"
    }
   },
   "source": [
    "\n",
    "Existen muchas funciones para dibujar en pantalla en la [Referencia](https://processing.org/reference/)"
   ]
  },
  {
   "cell_type": "markdown",
   "metadata": {
    "slideshow": {
     "slide_type": "slide"
    }
   },
   "source": [
    "### Escuchando a netcat con Processing\n",
    "\n",
    "```java\n",
    "// Example by Tom Igoe\n",
    "\n",
    "import processing.net.*;\n",
    "\n",
    "int port = 4455;       \n",
    "Server myServer;        \n",
    "\n",
    "void setup()\n",
    "{\n",
    "  size(400, 400);\n",
    "  background(0);\n",
    "  myServer = new Server(this, port);\n",
    "}\n",
    "\n",
    "void draw()\n",
    "{\n",
    "  // Obtener el próximo cliente\n",
    "  Client thisClient = myServer.available();\n",
    "  // Si el cliente es distinto de null y si escribió algo, mostrarlo\n",
    "  if (thisClient !=null) {\n",
    "    String whatClientSaid = thisClient.readString();\n",
    "    if (whatClientSaid != null) {\n",
    "      println(thisClient.ip() + \"t\" + whatClientSaid);\n",
    "    } \n",
    "  } \n",
    "}\n",
    "```\n",
    "Ejemplo tomado de la [referncia](file:///opt/homebrew-cask/Caskroom/processing/2.2.1/Processing.app/Contents/Java/modes/java/reference/libraries/net/Server_available_.html)"
   ]
  },
  {
   "cell_type": "markdown",
   "metadata": {
    "slideshow": {
     "slide_type": "subslide"
    }
   },
   "source": [
    "### JSON en Processing\n",
    "\n",
    "Para cargar JSON en Processing, la referencia muestra el siguente código:\n",
    "```java\n",
    "JSONObject json;\n",
    "\n",
    "void setup() {\n",
    "\n",
    "  json = new JSONObject();\n",
    "\n",
    "  json.setInt(\"id\", 0);\n",
    "  json.setString(\"species\", \"Panthera leo\");\n",
    "  json.setString(\"name\", \"Lion\");\n",
    "  saveJSONObject(json, \"data/new.json\");\n",
    "}\n",
    "```"
   ]
  },
  {
   "cell_type": "markdown",
   "metadata": {
    "slideshow": {
     "slide_type": "fragment"
    }
   },
   "source": [
    "### Problema!!!\n",
    "\n",
    "No podemos cargar JSON desde una cadena, sólo desde un archivo! Por lo tanto vamos a cambiar de modo de Processing. "
   ]
  },
  {
   "cell_type": "markdown",
   "metadata": {
    "slideshow": {
     "slide_type": "slide"
    }
   },
   "source": [
    "# Processing.py\n",
    "\n",
    "- Desarollado para facilitar la programación mediante el lenguaje Python (originalmente para alumnos de escuela primaria)\n",
    "- Python es un lenguaje con baterias incluidas (es este caso, vamos a poder cargar JSON desde una cadena con la biblioteca **json**)\n",
    "- Todas las funciones de Processing Java están disponibles en el modo Python de Processing\n",
    "\n",
    "![Processing.py](static/processing_py.png)"
   ]
  },
  {
   "cell_type": "markdown",
   "metadata": {
    "slideshow": {
     "slide_type": "subslide"
    }
   },
   "source": [
    "## Instalación\n",
    "Desde el desplegable de la esquina superior derecha de la ventana seleccionamos **Add mode...**\n",
    "![Instalación](static/install-processing-py.png)"
   ]
  },
  {
   "cell_type": "markdown",
   "metadata": {
    "slideshow": {
     "slide_type": "subslide"
    }
   },
   "source": [
    "# Instalación (cont.)\n",
    "En la ventana utilizamos el botón **Install** \n",
    "![Instalación seleción modo](static/install-processing-2.png)"
   ]
  },
  {
   "cell_type": "markdown",
   "metadata": {
    "slideshow": {
     "slide_type": "slide"
    }
   },
   "source": [
    "#Comunicando C con Processing.py\n",
    "## JSON\n",
    "\n",
    "JSON es una forma de pasar datos estructurados mediante **cadenas**. Muy utilizado en la Web y en bases de datos no relacionales.\n",
    "\n",
    "Vamos a utilizar este formato para transportar información entre C y Processing por:\n",
    " - ser legible para los humanos\n",
    " - fácil de generar, ya que cualquier lenguaje de programación permite imprimir cadenas (aunque hay formas más sofisticadas para generarlo)\n",
    "\n",
    "Processing.py posee un módulo llamado **json** que nos permite cargar una cadena JSON en tipos del lenguaje (diccionarios, listas, enteros, flotantes, booleanos)"
   ]
  },
  {
   "cell_type": "code",
   "execution_count": 174,
   "metadata": {
    "collapsed": false,
    "slideshow": {
     "slide_type": "fragment"
    }
   },
   "outputs": [
    {
     "name": "stdout",
     "output_type": "stream",
     "text": [
      "1 <type 'int'>\n",
      "False <type 'bool'>\n"
     ]
    }
   ],
   "source": [
    "import json\n",
    "cadena_json = '{\"a\":1, \"b\": 2, \"color\": \"azul\", \"encendido\": false}'\n",
    "type(cadena_json)  # es una cadena\n",
    "data = json.loads(cadena_json)\n",
    "print data[\"a\"], type(data[\"a\"]) # Es un entero\n",
    "print data[\"encendido\"], type(data[\"encendido\"]) # Es un booleano\n"
   ]
  },
  {
   "cell_type": "markdown",
   "metadata": {
    "slideshow": {
     "slide_type": "subslide"
    }
   },
   "source": [
    "## Ejemplo de JSON\n",
    "\n",
    "\n",
    "```json\n",
    "{\n",
    "    \"entero\": 1,\n",
    "    \"floatante\": 2.2,\n",
    "    \"cadena\": \"soy cadena\",\n",
    "    \"objeto\": {\n",
    "        \"entero\": 2,\n",
    "        \"booleano\": true\n",
    "    }\n",
    "}\n",
    "```"
   ]
  },
  {
   "cell_type": "markdown",
   "metadata": {
    "slideshow": {
     "slide_type": "subslide"
    }
   },
   "source": [
    "### ¿Cómo generamos JSON con C?\n",
    "\n",
    "\n",
    "```c\n",
    "#include <stdio.h>\n",
    "int main(void) {\n",
    "    /* JSON son cadenas, usemos printf */\n",
    "    printf(\"{\\\"pid\\\": %d, \\\"estado\\\": \\\"%s\\\"}\", \n",
    "        getpid(), \n",
    "        \"iniciando\"\n",
    "    );\n",
    "    return 0\n",
    "}\n",
    "```"
   ]
  },
  {
   "cell_type": "code",
   "execution_count": 8,
   "metadata": {
    "collapsed": false,
    "slideshow": {
     "slide_type": "notes"
    }
   },
   "outputs": [
    {
     "name": "stdout",
     "output_type": "stream",
     "text": [
      "Overwriting src/imprime_json.c\n"
     ]
    }
   ],
   "source": [
    "%%file src/imprime_json.c\n",
    "#include <stdio.h>\n",
    "#include <unistd.h>\n",
    "\n",
    "int main(void) {\n",
    "    /* JSON son cadenas, usemos printf */\n",
    "    printf(\"{\\\"pid\\\": %d, \\\"estado\\\": \\\"%s\\\"}\", \n",
    "        getpid(), \n",
    "        \"iniciando\"\n",
    "    );\n",
    "    return 0;\n",
    "}"
   ]
  },
  {
   "cell_type": "code",
   "execution_count": 12,
   "metadata": {
    "collapsed": false
   },
   "outputs": [
    {
     "name": "stdout",
     "output_type": "stream",
     "text": [
      "{\r\n",
      "    \"estado\": \"iniciando\",\r\n",
      "    \"pid\": 82349\r\n",
      "}\r\n"
     ]
    }
   ],
   "source": [
    "!gcc src/imprime_json.c -o imprime_json\n",
    "!./imprime_json | python -m json.tool"
   ]
  },
  {
   "cell_type": "markdown",
   "metadata": {
    "slideshow": {
     "slide_type": "subslide"
    }
   },
   "source": [
    "### El JSON saliendo por stdout\n",
    "\n",
    "```bash\n",
    "\n",
    "pepe@localhost $ ./programa \n",
    "{pid: 1234, \"estado\": \"iniciando\"}\n",
    "prpr@localhost $\n",
    "```\n",
    "\n"
   ]
  },
  {
   "cell_type": "markdown",
   "metadata": {
    "slideshow": {
     "slide_type": "subslide"
    }
   },
   "source": [
    "### Usando el JSON mediante un pipe a un cat de sockets\n",
    "\n",
    "```bash\n",
    "pepe@localhost $ ./programa | nc localhost 4455\n",
    "```\n",
    "\n"
   ]
  },
  {
   "cell_type": "markdown",
   "metadata": {
    "slideshow": {
     "slide_type": "slide"
    }
   },
   "source": [
    "# Recibiendo los datos con Python\n",
    "\n",
    "\n",
    "```python\n",
    "import socket\n",
    "import json\n",
    "\n",
    "conexion = socket.socket()\n",
    "conexion.bind(('localhost', 4455)) # Extremo de escucha para nc\n",
    "conexion.listen(10)                # Backlog de conexiones \n",
    "while True:\n",
    "    cliente, direccion = conexion.accept()  # Espera una conexión de netcat\n",
    "    while True:\n",
    "        cadena = cliente.recv(100)\n",
    "        if not data:\n",
    "            break\n",
    "        datos = json.loads(cadena)\n",
    "        print datos   # Hacer algo útil\n",
    "\n",
    "```"
   ]
  },
  {
   "cell_type": "markdown",
   "metadata": {
    "slideshow": {
     "slide_type": "slide"
    }
   },
   "source": [
    "# Recibiendo datos con processing.py\n",
    "```python\n",
    "\n",
    "import socket\n",
    "from thread import start_new_thread\n",
    "# Vairable global de conexion\n",
    "conexion = None\n",
    "\n",
    "def setup():\n",
    "    global conexion\n",
    "    size(500, 500)\n",
    "    conexion = socket.socket()\n",
    "    conexion.bind(('localhost', 4455))\n",
    "    conexion.listen(10)\n",
    "    start_new_thread(espera_clientes, (conexion, ))\n",
    "\n",
    "def espera_clientes(conexion):\n",
    "    while True:\n",
    "        cliente, direccion = conexion.accept()\n",
    "        print \"Llegó cliente desde %s %d\" % direccion\n",
    "        while True:\n",
    "            cadena = cliente.recv(100)\n",
    "            if not cadena:\n",
    "                print \"Se fue el cliente!\"\n",
    "                break\n",
    "            print \"El cliente dijo: %s\" % cadena\n",
    "            \n",
    "def stop():\n",
    "    if conexion:\n",
    "        conexion.close()\n",
    "    \n",
    "def draw():\n",
    "    fill(255, 0, 0)\n",
    "    rect(10, 10, 20, 20)\n",
    "```"
   ]
  },
  {
   "cell_type": "markdown",
   "metadata": {
    "slideshow": {
     "slide_type": "slide"
    }
   },
   "source": [
    "# Ejemplo 1: Cambiando un color\n",
    "\n"
   ]
  },
  {
   "cell_type": "code",
   "execution_count": 153,
   "metadata": {
    "collapsed": false,
    "slideshow": {
     "slide_type": "notes"
    }
   },
   "outputs": [
    {
     "name": "stdout",
     "output_type": "stream",
     "text": [
      "Overwriting static/ejemplo.dot\n"
     ]
    }
   ],
   "source": [
    "%%file static/ejemplo.dot\n",
    "digraph G {\n",
    "    programa_c [label=\"echo '{\\\"r\\\": 128, \\\"g\\\": 128, \\\"b\\\": 128}'\"];\n",
    "    pipe[label=\"|\"];\n",
    "    nc[label=\"netcat localhost 4455\"];\n",
    "    programa_c -> pipe -> nc -> socket;\n",
    "    \n",
    "    socket[shape=oval];\n",
    "\n",
    "    draw[label=\"draw():\\n\\tfill(r, g, b)\\n\\t\"]\n",
    "}"
   ]
  },
  {
   "cell_type": "code",
   "execution_count": 154,
   "metadata": {
    "collapsed": false,
    "slideshow": {
     "slide_type": "notes"
    }
   },
   "outputs": [],
   "source": [
    "!dot -Tpng static/ejemplo.dot -o static/ejemplo.png"
   ]
  },
  {
   "cell_type": "markdown",
   "metadata": {
    "slideshow": {
     "slide_type": "subslide"
    }
   },
   "source": [
    "![](static/ejemplo.png?asf)"
   ]
  },
  {
   "cell_type": "code",
   "execution_count": null,
   "metadata": {
    "collapsed": true
   },
   "outputs": [],
   "source": []
  },
  {
   "cell_type": "code",
   "execution_count": 13,
   "metadata": {
    "collapsed": false,
    "slideshow": {
     "slide_type": "notes"
    }
   },
   "outputs": [],
   "source": [
    "%%bash\n",
    "mkdir -p src/examples/json_colores\n",
    "echo \"mode.id=jycessing.mode.PythonMode\\nmode=Python\\n\" > src/examples/json_colores/sketch.properties"
   ]
  },
  {
   "cell_type": "markdown",
   "metadata": {
    "collapsed": false,
    "path": "src/examples/json_colores/json_colores.pyde",
    "slideshow": {
     "slide_type": "subslide"
    }
   },
   "source": [
    "```python\n",
    "import socket\n",
    "from thread import start_new_thread\n",
    "import json\n",
    "\n",
    "# Vairable global de conexion\n",
    "conexion = None\n",
    "\n",
    "r, g, b = 255, 255, 255 # Blanco\n",
    "\n",
    "def setup():\n",
    "    global conexion\n",
    "    size(500, 500)\n",
    "    conexion = socket.socket()\n",
    "    conexion.bind(('localhost', 4455))\n",
    "    conexion.listen(10)\n",
    "    start_new_thread(espera_clientes, (conexion, ))\n",
    "\n",
    "def espera_clientes(conexion):\n",
    "    global r, g, b\n",
    "    while True:\n",
    "        cliente, direccion = conexion.accept()\n",
    "        print \"Llegó cliente desde %s %d\" % direccion\n",
    "        while True:\n",
    "            cadena = cliente.recv(100)\n",
    "            if not cadena:\n",
    "                print \"Se fue el cliente!\"\n",
    "                break\n",
    "            try:\n",
    "                data = json.loads(cadena)\n",
    "                r = data[\"r\"]\n",
    "                g = data[\"g\"]\n",
    "                b = data[\"b\"]\n",
    "            except ValueError:\n",
    "                print \"Porblemas con JSON\"\n",
    "            except KeyError as e:\n",
    "                print \"JSON no tiene algun atributo necesario %s\" % e\n",
    "                \n",
    "            \n",
    "def stop():\n",
    "    if conexion:\n",
    "        conexion.close()\n",
    "    \n",
    "def draw():\n",
    "    fill(r, g, b)\n",
    "    rect(10, 10, 20, 20)\n",
    "```"
   ]
  },
  {
   "cell_type": "markdown",
   "metadata": {
    "slideshow": {
     "slide_type": "fragment"
    }
   },
   "source": [
    "#### Probando dedse terminal\n",
    "\n",
    "```bash\n",
    "pepe@localhost $ echo '{\"r\": 100, \"g\": 124, \"b\": 23}' | nc localhost 4455\n",
    "```\n",
    "\n",
    "\n"
   ]
  },
  {
   "cell_type": "code",
   "execution_count": 159,
   "metadata": {
    "collapsed": false,
    "slideshow": {
     "slide_type": "fragment"
    }
   },
   "outputs": [
    {
     "name": "stdout",
     "output_type": "stream",
     "text": [
      "'' was not found in history, as a file, url, nor in the user namespace.\n",
      "ipython nbconvert --to slides SO_TP4_Guia.ipynb\n",
      "[NbConvertApp] Using existing profile dir: u'/Users/nahuel/.ipython/profile_default'\n",
      "[NbConvertApp] Converting notebook SO_TP4_Guia.ipynb to slides\n",
      "[NbConvertApp] Support files will be in SO_TP4_Guia_files/\n",
      "[NbConvertApp] Loaded template slides_reveal.tpl\n",
      "[NbConvertApp] Writing 233144 bytes to SO_TP4_Guia.slides.html\n"
     ]
    }
   ],
   "source": [
    "%save SO_TP4_Guia.ipynb\n",
    "!make slides\n",
    "!open ./SO_TP4_Guia.slides.html"
   ]
  },
  {
   "cell_type": "code",
   "execution_count": 124,
   "metadata": {
    "collapsed": false,
    "slideshow": {
     "slide_type": "skip"
    }
   },
   "outputs": [],
   "source": [
    "ipynb = !ls *.ipynb\n",
    "assert len(ipynb) == 1  # Solo debería haber un ipynb en este carpeta\n",
    "ipynb = ipynb[0]\n",
    "\n",
    "def guardar_celda(path_fragment):\n",
    "    pass\n",
    "    \n",
    "    "
   ]
  },
  {
   "cell_type": "code",
   "execution_count": 169,
   "metadata": {
    "collapsed": false,
    "slideshow": {
     "slide_type": "skip"
    }
   },
   "outputs": [
    {
     "name": "stdout",
     "output_type": "stream",
     "text": [
      "'' was not found in history, as a file, url, nor in the user namespace.\n",
      "ipython nbconvert --to slides SO_TP4_Guia.ipynb\n",
      "[NbConvertApp] Using existing profile dir: u'/Users/nahuel/.ipython/profile_default'\n",
      "[NbConvertApp] Converting notebook SO_TP4_Guia.ipynb to slides\n",
      "[NbConvertApp] Support files will be in SO_TP4_Guia_files/\n",
      "[NbConvertApp] Loaded template slides_reveal.tpl\n",
      "[NbConvertApp] Writing 238849 bytes to SO_TP4_Guia.slides.html\n",
      "[master 3ee5f8a] Update 04/24/15 13:17:50\n",
      " 1 file changed, 93 insertions(+), 19 deletions(-)\n",
      "Counting objects: 3, done.\n",
      "Delta compression using up to 4 threads.\n",
      "Compressing objects: 100% (3/3), done.\n",
      "Writing objects: 100% (3/3), 1.50 KiB | 0 bytes/s, done.\n",
      "Total 3 (delta 2), reused 0 (delta 0)\n",
      "To git@github.com:UNPSJB/so-tp4-2015.git\n",
      "   fdaeef9..3ee5f8a  master -> master\n"
     ]
    }
   ],
   "source": [
    "%save SO_TP4_Guia.ipynb\n",
    "!make slides\n",
    "# Commitear\n",
    "from datetime import datetime\n",
    "fecha = datetime.now().strftime('%x %X')\n",
    "!git add -u\n",
    "!git commit -m \"Update $fecha\"\n",
    "!git push origin master"
   ]
  }
 ],
 "metadata": {
  "celltoolbar": "Slideshow",
  "kernelspec": {
   "display_name": "Python 2",
   "language": "python",
   "name": "python2"
  },
  "language_info": {
   "codemirror_mode": {
    "name": "ipython",
    "version": 2
   },
   "file_extension": ".py",
   "mimetype": "text/x-python",
   "name": "python",
   "nbconvert_exporter": "python",
   "pygments_lexer": "ipython2",
   "version": "2.7.9"
  }
 },
 "nbformat": 4,
 "nbformat_minor": 0
}
